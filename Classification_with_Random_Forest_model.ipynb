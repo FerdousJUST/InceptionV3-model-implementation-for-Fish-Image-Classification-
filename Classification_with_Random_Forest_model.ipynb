{
  "nbformat": 4,
  "nbformat_minor": 0,
  "metadata": {
    "colab": {
      "provenance": [],
      "mount_file_id": "1Xg3N7nVlDsPoLbBK6V4wgQi_R9pF6qEw",
      "authorship_tag": "ABX9TyPBJ1kFJkpswxIt8fpE4YO4",
      "include_colab_link": true
    },
    "kernelspec": {
      "name": "python3",
      "display_name": "Python 3"
    },
    "language_info": {
      "name": "python"
    }
  },
  "cells": [
    {
      "cell_type": "markdown",
      "metadata": {
        "id": "view-in-github",
        "colab_type": "text"
      },
      "source": [
        "<a href=\"https://colab.research.google.com/github/FerdousJUST/InceptionV3-model-implementation-for-Fish-Image-Classification-/blob/main/Classification_with_Random_Forest_model.ipynb\" target=\"_parent\"><img src=\"https://colab.research.google.com/assets/colab-badge.svg\" alt=\"Open In Colab\"/></a>"
      ]
    },
    {
      "cell_type": "code",
      "execution_count": 1,
      "metadata": {
        "id": "Y1HVU5GQiOpj"
      },
      "outputs": [],
      "source": [
        "import numpy as np \n",
        "import matplotlib.pyplot as plt\n",
        "import glob\n",
        "import cv2\n",
        "\n",
        "from keras.models import Model, Sequential\n",
        "from keras.layers import Dense, Flatten, Conv2D, MaxPooling2D\n",
        "from tensorflow.keras.models import Sequential\n",
        "from tensorflow.keras.layers import Dense, BatchNormalization\n",
        "\n",
        "import os\n",
        "import seaborn as sns"
      ]
    },
    {
      "cell_type": "code",
      "source": [
        "print(os.listdir(\"/content/drive/Shareddrives/Research Collaboration/Image_Classification_Dataset/\"))"
      ],
      "metadata": {
        "colab": {
          "base_uri": "https://localhost:8080/"
        },
        "id": "FvgHEVs5kIca",
        "outputId": "cf24f3ef-247d-42ff-9b32-bd25394488c2"
      },
      "execution_count": 2,
      "outputs": [
        {
          "output_type": "stream",
          "name": "stdout",
          "text": [
            "['Validation', '.ipynb_checkpoints', 'Training', 'valid_test_data', 'Validation_Fish', 'Training1 ', 'Training New', 'Validation New']\n"
          ]
        }
      ]
    },
    {
      "cell_type": "code",
      "source": [
        "SIZE = 128"
      ],
      "metadata": {
        "id": "YzrL57oUkIYl"
      },
      "execution_count": 3,
      "outputs": []
    },
    {
      "cell_type": "code",
      "source": [
        "train_images = []\n",
        "train_labels = [] \n",
        "for directory_path in glob.glob(\"/content/drive/Shareddrives/Research Collaboration/Image_Classification_Dataset/Training New/*\"):\n",
        "    label = directory_path.split(\"\\\\\")[-1]\n",
        "    print(label)\n",
        "    #for img_path in glob.glob(os.path.join(directory_path)):\n",
        "    for img_path in glob.glob(os.path.join(directory_path, \"*.jpg\")):\n",
        "       # print(img_path)\n",
        "        img = cv2.imread(img_path, cv2.IMREAD_COLOR)       \n",
        "        img = cv2.resize(img, (SIZE, SIZE))\n",
        "        img = cv2.cvtColor(img, cv2.COLOR_RGB2BGR)\n",
        "        train_images.append(img)\n",
        "        train_labels.append(label)\n",
        "        \n",
        "train_images = np.array(train_images)\n",
        "train_labels = np.array(train_labels)"
      ],
      "metadata": {
        "colab": {
          "base_uri": "https://localhost:8080/"
        },
        "id": "hwx4NcApkH_5",
        "outputId": "0edd0828-37d6-407c-9379-51e626c7dfd0"
      },
      "execution_count": 4,
      "outputs": [
        {
          "output_type": "stream",
          "name": "stdout",
          "text": [
            "/content/drive/Shareddrives/Research Collaboration/Image_Classification_Dataset/Training New/Spotted_Snakehead_Fish\n",
            "/content/drive/Shareddrives/Research Collaboration/Image_Classification_Dataset/Training New/Hilsha_Fish\n",
            "/content/drive/Shareddrives/Research Collaboration/Image_Classification_Dataset/Training New/Barbel_Fish\n",
            "/content/drive/Shareddrives/Research Collaboration/Image_Classification_Dataset/Training New/Tilapia_Fish\n"
          ]
        }
      ]
    },
    {
      "cell_type": "code",
      "source": [
        "train_images.shape"
      ],
      "metadata": {
        "colab": {
          "base_uri": "https://localhost:8080/"
        },
        "id": "ZFm_Wm6Nn-j1",
        "outputId": "968a682d-1146-4e17-83d6-5c4ee808b842"
      },
      "execution_count": 5,
      "outputs": [
        {
          "output_type": "execute_result",
          "data": {
            "text/plain": [
              "(4800, 128, 128, 3)"
            ]
          },
          "metadata": {},
          "execution_count": 5
        }
      ]
    },
    {
      "cell_type": "code",
      "source": [
        "train_labels.shape"
      ],
      "metadata": {
        "colab": {
          "base_uri": "https://localhost:8080/"
        },
        "id": "-Isfxy1poP-1",
        "outputId": "56653cc3-bb41-4ab1-e966-20bc44f180d4"
      },
      "execution_count": 6,
      "outputs": [
        {
          "output_type": "execute_result",
          "data": {
            "text/plain": [
              "(4800,)"
            ]
          },
          "metadata": {},
          "execution_count": 6
        }
      ]
    },
    {
      "cell_type": "code",
      "source": [
        "\n",
        "# test\n",
        "test_images = []\n",
        "test_labels = [] \n",
        "for directory_path in glob.glob(\"/content/drive/Shareddrives/Research Collaboration/Image_Classification_Dataset/Validation New/*\"):\n",
        "    fruit_label = directory_path.split(\"\\\\\")[-1]\n",
        "    print(fruit_label)\n",
        "    for img_path in glob.glob(os.path.join(directory_path, \"*.jpg\")):\n",
        "        img = cv2.imread(img_path, cv2.IMREAD_COLOR)\n",
        "        img = cv2.resize(img, (SIZE, SIZE))\n",
        "        img = cv2.cvtColor(img, cv2.COLOR_RGB2BGR)\n",
        "        test_images.append(img)\n",
        "        test_labels.append(fruit_label)\n",
        "        \n",
        "test_images = np.array(test_images)\n",
        "test_labels = np.array(test_labels)"
      ],
      "metadata": {
        "colab": {
          "base_uri": "https://localhost:8080/"
        },
        "id": "tS7TrtvCkH6a",
        "outputId": "662d468a-8426-4d8b-8206-58058616e2d6"
      },
      "execution_count": 7,
      "outputs": [
        {
          "output_type": "stream",
          "name": "stdout",
          "text": [
            "/content/drive/Shareddrives/Research Collaboration/Image_Classification_Dataset/Validation New/Hilsha_Fish\n",
            "/content/drive/Shareddrives/Research Collaboration/Image_Classification_Dataset/Validation New/Barbel_Fish\n",
            "/content/drive/Shareddrives/Research Collaboration/Image_Classification_Dataset/Validation New/Tilapia_Fish\n",
            "/content/drive/Shareddrives/Research Collaboration/Image_Classification_Dataset/Validation New/Spotted_Snakehead_Fish\n"
          ]
        }
      ]
    },
    {
      "cell_type": "code",
      "source": [
        "test_images.shape"
      ],
      "metadata": {
        "colab": {
          "base_uri": "https://localhost:8080/"
        },
        "id": "kj7x9mQzoGJj",
        "outputId": "ebfcdddd-5cd8-411c-e284-f14737104cca"
      },
      "execution_count": 8,
      "outputs": [
        {
          "output_type": "execute_result",
          "data": {
            "text/plain": [
              "(1200, 128, 128, 3)"
            ]
          },
          "metadata": {},
          "execution_count": 8
        }
      ]
    },
    {
      "cell_type": "code",
      "source": [
        "test_labels.shape"
      ],
      "metadata": {
        "colab": {
          "base_uri": "https://localhost:8080/"
        },
        "id": "kPJDePhgoLHv",
        "outputId": "fdfb09c8-2e33-48ca-8cc6-859a75f43cff"
      },
      "execution_count": 9,
      "outputs": [
        {
          "output_type": "execute_result",
          "data": {
            "text/plain": [
              "(1200,)"
            ]
          },
          "metadata": {},
          "execution_count": 9
        }
      ]
    },
    {
      "cell_type": "code",
      "source": [
        "#Encode labels from text to integers.\n",
        "from sklearn import preprocessing\n",
        "le = preprocessing.LabelEncoder()\n",
        "le.fit(test_labels)\n",
        "test_labels_encoded = le.transform(test_labels)\n",
        "le.fit(train_labels)\n",
        "train_labels_encoded = le.transform(train_labels)"
      ],
      "metadata": {
        "id": "TzGx-Ts1kH2j"
      },
      "execution_count": 10,
      "outputs": []
    },
    {
      "cell_type": "code",
      "source": [
        "#Split data into test and train datasets (already split but assigning to meaningful convention)\n",
        "x_train, y_train, x_test, y_test = train_images, train_labels_encoded, test_images, test_labels_encoded"
      ],
      "metadata": {
        "id": "Gg5Pj8SmkHyn"
      },
      "execution_count": 11,
      "outputs": []
    },
    {
      "cell_type": "code",
      "source": [
        "# Normalize pixel values to between 0 and 1\n",
        "x_train, x_test = x_train / 255.0, x_test / 255.0"
      ],
      "metadata": {
        "id": "zxJtEi3PmfR0"
      },
      "execution_count": 12,
      "outputs": []
    },
    {
      "cell_type": "code",
      "source": [
        "x_train.shape"
      ],
      "metadata": {
        "colab": {
          "base_uri": "https://localhost:8080/"
        },
        "id": "7FELZBgopGSU",
        "outputId": "d51c3908-b94d-4cc5-803d-a23bcc21880a"
      },
      "execution_count": 13,
      "outputs": [
        {
          "output_type": "execute_result",
          "data": {
            "text/plain": [
              "(4800, 128, 128, 3)"
            ]
          },
          "metadata": {},
          "execution_count": 13
        }
      ]
    },
    {
      "cell_type": "code",
      "source": [
        "x_test.shape"
      ],
      "metadata": {
        "colab": {
          "base_uri": "https://localhost:8080/"
        },
        "id": "rjt-TGX2phRU",
        "outputId": "a2ba9854-4fd2-48eb-bd48-7113f1ee64dc"
      },
      "execution_count": 14,
      "outputs": [
        {
          "output_type": "execute_result",
          "data": {
            "text/plain": [
              "(1200, 128, 128, 3)"
            ]
          },
          "metadata": {},
          "execution_count": 14
        }
      ]
    },
    {
      "cell_type": "code",
      "source": [
        "y_train.shape"
      ],
      "metadata": {
        "colab": {
          "base_uri": "https://localhost:8080/"
        },
        "id": "Cr5oqEedpS3f",
        "outputId": "5325b7ed-e8dd-497c-f5b9-3fe5f2d31a9a"
      },
      "execution_count": 15,
      "outputs": [
        {
          "output_type": "execute_result",
          "data": {
            "text/plain": [
              "(4800,)"
            ]
          },
          "metadata": {},
          "execution_count": 15
        }
      ]
    },
    {
      "cell_type": "code",
      "source": [
        "y_test.shape"
      ],
      "metadata": {
        "colab": {
          "base_uri": "https://localhost:8080/"
        },
        "id": "l7fvAmctpb3O",
        "outputId": "bdbd50e1-cce8-4d90-c050-6dc01c173d75"
      },
      "execution_count": 16,
      "outputs": [
        {
          "output_type": "execute_result",
          "data": {
            "text/plain": [
              "(1200,)"
            ]
          },
          "metadata": {},
          "execution_count": 16
        }
      ]
    },
    {
      "cell_type": "code",
      "source": [
        "#One hot encode y values for neural network. \n",
        "from keras.utils import to_categorical\n",
        "#y_train_one_hot = to_categorical(y_train,num_classes = 4,dtype=\"uint8\")\n",
        "#y_test_one_hot = to_categorical(y_test,num_classes = 4,dtype=\"uint8\")\n",
        "y_train_one_hot = to_categorical(y_train)\n",
        "y_test_one_hot = to_categorical(y_test)"
      ],
      "metadata": {
        "id": "tDnHLNyimfM8"
      },
      "execution_count": 17,
      "outputs": []
    },
    {
      "cell_type": "code",
      "source": [
        "y_train_one_hot.shape"
      ],
      "metadata": {
        "colab": {
          "base_uri": "https://localhost:8080/"
        },
        "id": "5uspjh4EoxOp",
        "outputId": "6c7f0828-dd14-49ad-fa48-f6974cc81080"
      },
      "execution_count": 18,
      "outputs": [
        {
          "output_type": "execute_result",
          "data": {
            "text/plain": [
              "(4800, 4)"
            ]
          },
          "metadata": {},
          "execution_count": 18
        }
      ]
    },
    {
      "cell_type": "code",
      "source": [
        "y_test_one_hot.shape"
      ],
      "metadata": {
        "colab": {
          "base_uri": "https://localhost:8080/"
        },
        "id": "roEAq1Uoo1jM",
        "outputId": "fb33d073-5fab-4955-ffd0-398183d179f6"
      },
      "execution_count": 19,
      "outputs": [
        {
          "output_type": "execute_result",
          "data": {
            "text/plain": [
              "(1200, 4)"
            ]
          },
          "metadata": {},
          "execution_count": 19
        }
      ]
    },
    {
      "cell_type": "code",
      "source": [
        "#activation = 'sigmoid'\n",
        "activation = 'softmax'\n",
        "\n",
        "feature_extractor = Sequential()\n",
        "feature_extractor.add(Conv2D(32, 3, activation = activation, padding = 'same', input_shape = (SIZE, SIZE, 3)))\n",
        "#feature_extractor.add(BatchNormalization())\n",
        "\n",
        "feature_extractor.add(Conv2D(32, 3, activation = activation, padding = 'same', kernel_initializer = 'he_uniform'))\n",
        "#feature_extractor.add(BatchNormalization())\n",
        "feature_extractor.add(MaxPooling2D())\n",
        "\n",
        "feature_extractor.add(Conv2D(64, 3, activation = activation, padding = 'same', kernel_initializer = 'he_uniform'))\n",
        "#feature_extractor.add(BatchNormalization())\n",
        "\n",
        "feature_extractor.add(Conv2D(64, 3, activation = activation, padding = 'same', kernel_initializer = 'he_uniform'))\n",
        "feature_extractor.add(BatchNormalization())\n",
        "feature_extractor.add(MaxPooling2D())\n",
        "\n",
        "feature_extractor.add(Flatten())"
      ],
      "metadata": {
        "id": "POJniMwJmfHp"
      },
      "execution_count": 20,
      "outputs": []
    },
    {
      "cell_type": "code",
      "source": [
        "#Add layers for deep learning prediction\n",
        "x = feature_extractor.output  \n",
        "x = Dense(128, activation = activation, kernel_initializer = 'he_uniform')(x)\n",
        "prediction_layer = Dense(4, activation = 'softmax')(x)"
      ],
      "metadata": {
        "id": "MCQ4kRATmfEB"
      },
      "execution_count": 21,
      "outputs": []
    },
    {
      "cell_type": "code",
      "source": [
        "# Make a new model combining both feature extractor and x\n",
        "cnn_model = Model(inputs=feature_extractor.input, outputs=prediction_layer)\n",
        "cnn_model.compile(optimizer='rmsprop',loss = 'categorical_crossentropy', metrics = ['accuracy'])\n",
        "print(cnn_model.summary())"
      ],
      "metadata": {
        "colab": {
          "base_uri": "https://localhost:8080/"
        },
        "id": "nGqqmPmrnP-h",
        "outputId": "cfe29f57-8afd-419a-dacb-c125e522578e"
      },
      "execution_count": 22,
      "outputs": [
        {
          "output_type": "stream",
          "name": "stdout",
          "text": [
            "Model: \"model\"\n",
            "_________________________________________________________________\n",
            " Layer (type)                Output Shape              Param #   \n",
            "=================================================================\n",
            " conv2d_input (InputLayer)   [(None, 128, 128, 3)]     0         \n",
            "                                                                 \n",
            " conv2d (Conv2D)             (None, 128, 128, 32)      896       \n",
            "                                                                 \n",
            " conv2d_1 (Conv2D)           (None, 128, 128, 32)      9248      \n",
            "                                                                 \n",
            " max_pooling2d (MaxPooling2D  (None, 64, 64, 32)       0         \n",
            " )                                                               \n",
            "                                                                 \n",
            " conv2d_2 (Conv2D)           (None, 64, 64, 64)        18496     \n",
            "                                                                 \n",
            " conv2d_3 (Conv2D)           (None, 64, 64, 64)        36928     \n",
            "                                                                 \n",
            " batch_normalization (BatchN  (None, 64, 64, 64)       256       \n",
            " ormalization)                                                   \n",
            "                                                                 \n",
            " max_pooling2d_1 (MaxPooling  (None, 32, 32, 64)       0         \n",
            " 2D)                                                             \n",
            "                                                                 \n",
            " flatten (Flatten)           (None, 65536)             0         \n",
            "                                                                 \n",
            " dense (Dense)               (None, 128)               8388736   \n",
            "                                                                 \n",
            " dense_1 (Dense)             (None, 4)                 516       \n",
            "                                                                 \n",
            "=================================================================\n",
            "Total params: 8,455,076\n",
            "Trainable params: 8,454,948\n",
            "Non-trainable params: 128\n",
            "_________________________________________________________________\n",
            "None\n"
          ]
        }
      ]
    },
    {
      "cell_type": "code",
      "source": [
        "#Train the CNN model\n",
        "history = cnn_model.fit(x_train, y_train_one_hot, epochs=20, validation_data = (x_test, y_test_one_hot))"
      ],
      "metadata": {
        "colab": {
          "base_uri": "https://localhost:8080/"
        },
        "id": "AbxdBexunP52",
        "outputId": "fdec71bb-7790-4ab9-917b-55226a17ccce"
      },
      "execution_count": 23,
      "outputs": [
        {
          "output_type": "stream",
          "name": "stdout",
          "text": [
            "Epoch 1/20\n",
            "150/150 [==============================] - 417s 3s/step - loss: 1.3064 - accuracy: 0.4769 - val_loss: 1.4152 - val_accuracy: 0.2500\n",
            "Epoch 2/20\n",
            "150/150 [==============================] - 414s 3s/step - loss: 1.1543 - accuracy: 0.6942 - val_loss: 1.4480 - val_accuracy: 0.2500\n",
            "Epoch 3/20\n",
            "150/150 [==============================] - 414s 3s/step - loss: 1.0721 - accuracy: 0.7027 - val_loss: 1.1607 - val_accuracy: 0.5783\n",
            "Epoch 4/20\n",
            "150/150 [==============================] - 412s 3s/step - loss: 0.9999 - accuracy: 0.7140 - val_loss: 1.0709 - val_accuracy: 0.6408\n",
            "Epoch 5/20\n",
            "150/150 [==============================] - 416s 3s/step - loss: 0.9443 - accuracy: 0.7169 - val_loss: 1.0787 - val_accuracy: 0.6200\n",
            "Epoch 6/20\n",
            "150/150 [==============================] - 414s 3s/step - loss: 0.8954 - accuracy: 0.7254 - val_loss: 1.0023 - val_accuracy: 0.6617\n",
            "Epoch 7/20\n",
            "150/150 [==============================] - 414s 3s/step - loss: 0.8634 - accuracy: 0.7244 - val_loss: 0.9721 - val_accuracy: 0.6725\n",
            "Epoch 8/20\n",
            "150/150 [==============================] - 416s 3s/step - loss: 0.8448 - accuracy: 0.7210 - val_loss: 0.9387 - val_accuracy: 0.6842\n",
            "Epoch 9/20\n",
            "150/150 [==============================] - 417s 3s/step - loss: 0.8176 - accuracy: 0.7281 - val_loss: 1.2561 - val_accuracy: 0.5233\n",
            "Epoch 10/20\n",
            "150/150 [==============================] - 414s 3s/step - loss: 0.8021 - accuracy: 0.7319 - val_loss: 1.4146 - val_accuracy: 0.4750\n",
            "Epoch 11/20\n",
            "150/150 [==============================] - 418s 3s/step - loss: 0.7751 - accuracy: 0.7385 - val_loss: 1.2063 - val_accuracy: 0.5850\n",
            "Epoch 12/20\n",
            "150/150 [==============================] - 417s 3s/step - loss: 0.7487 - accuracy: 0.7479 - val_loss: 0.9686 - val_accuracy: 0.6558\n",
            "Epoch 13/20\n",
            "150/150 [==============================] - 418s 3s/step - loss: 0.7198 - accuracy: 0.7515 - val_loss: 1.6361 - val_accuracy: 0.4333\n",
            "Epoch 14/20\n",
            "150/150 [==============================] - 416s 3s/step - loss: 0.6821 - accuracy: 0.7696 - val_loss: 1.4164 - val_accuracy: 0.5383\n",
            "Epoch 15/20\n",
            "150/150 [==============================] - 417s 3s/step - loss: 0.6587 - accuracy: 0.7848 - val_loss: 1.0422 - val_accuracy: 0.6283\n",
            "Epoch 16/20\n",
            "150/150 [==============================] - 416s 3s/step - loss: 0.6168 - accuracy: 0.8002 - val_loss: 1.0654 - val_accuracy: 0.6583\n",
            "Epoch 17/20\n",
            "150/150 [==============================] - 418s 3s/step - loss: 0.6006 - accuracy: 0.8083 - val_loss: 1.2367 - val_accuracy: 0.5900\n",
            "Epoch 18/20\n",
            "150/150 [==============================] - 419s 3s/step - loss: 0.5822 - accuracy: 0.8133 - val_loss: 0.7820 - val_accuracy: 0.7117\n",
            "Epoch 19/20\n",
            "150/150 [==============================] - 416s 3s/step - loss: 0.5606 - accuracy: 0.8213 - val_loss: 1.6943 - val_accuracy: 0.4758\n",
            "Epoch 20/20\n",
            "150/150 [==============================] - 418s 3s/step - loss: 0.5413 - accuracy: 0.8285 - val_loss: 0.8519 - val_accuracy: 0.6983\n"
          ]
        }
      ]
    },
    {
      "cell_type": "code",
      "source": [
        "#plot the training and validation accuracy and loss at each epoch\n",
        "plt.figure(figsize = (8,6))\n",
        "loss = history.history['loss']\n",
        "val_loss = history.history['val_loss']\n",
        "epochs = range(1, len(loss) + 1)\n",
        "plt.plot(epochs, loss, 'y','b-o', label='Training loss',linewidth=3.0)\n",
        "plt.plot(epochs, val_loss, 'r','b-o', label='Validation loss',linewidth=3.0)\n",
        "plt.title('Training and Validation Loss',fontsize= 16)\n",
        "plt.xlabel(\"Training Epochs\",fontsize= 16)\n",
        "plt.ylabel(\"Train & Validation Loss\",fontsize =16)\n",
        "plt.legend(['Train Loss', 'Validation Val_Loss'], loc='lower right')\n",
        "plt.show()"
      ],
      "metadata": {
        "id": "OAHVZwGwnTO9",
        "colab": {
          "base_uri": "https://localhost:8080/",
          "height": 411
        },
        "outputId": "58a8548d-4aec-4113-dfeb-2b0e8fbb7652"
      },
      "execution_count": 27,
      "outputs": [
        {
          "output_type": "display_data",
          "data": {
            "text/plain": [
              "<Figure size 576x432 with 1 Axes>"
            ],
            "image/png": "[encoded data removed]"
          },
          "metadata": {
            "needs_background": "light"
          }
        }
      ]
    },
    {
      "cell_type": "code",
      "source": [
        "plt.figure(figsize = (8,6))\n",
        "acc = history.history['accuracy']\n",
        "val_acc = history.history['val_accuracy']\n",
        "epochs = range(1, len(acc) + 1)\n",
        "plt.plot(epochs, acc, 'y', label='Training acc',linewidth=3.0 )\n",
        "plt.plot(epochs, val_acc, 'r', label='Validation acc',linewidth=3.0 )\n",
        "plt.title('Training and Validation Accuracy',fontsize= 16)\n",
        "plt.xlabel(\"Training Epochs\",fontsize= 16)\n",
        "plt.ylabel(\"Train & Validation Accuracy\",fontsize =16)\n",
        "plt.legend(['Train Accuracy', 'Test Val_Accuracy'], loc='lower right')\n",
        "plt.show()"
      ],
      "metadata": {
        "id": "AMgQ8ycbnTIy",
        "colab": {
          "base_uri": "https://localhost:8080/",
          "height": 411
        },
        "outputId": "09319d00-d583-45a8-e2e3-290e1adf04de"
      },
      "execution_count": 31,
      "outputs": [
        {
          "output_type": "display_data",
          "data": {
            "text/plain": [
              "<Figure size 576x432 with 1 Axes>"
            ],
            "image/png": "[encoded data removed]"
          },
          "metadata": {
            "needs_background": "light"
          }
        }
      ]
    },
    {
      "cell_type": "code",
      "source": [
        "prediction_NN = cnn_model.predict(x_test)\n",
        "prediction_NN = np.argmax(prediction_NN, axis=-1)\n",
        "prediction_NN = le.inverse_transform(prediction_NN)"
      ],
      "metadata": {
        "id": "-9rY6AbdnTFG",
        "colab": {
          "base_uri": "https://localhost:8080/"
        },
        "outputId": "924776b2-9a8b-4000-9fc5-9dfb4c9b6658"
      },
      "execution_count": 32,
      "outputs": [
        {
          "output_type": "stream",
          "name": "stdout",
          "text": [
            "38/38 [==============================] - 29s 743ms/step\n"
          ]
        }
      ]
    },
    {
      "cell_type": "code",
      "source": [
        "#Confusion Matrix - verify accuracy of each class\n",
        "from sklearn.metrics import confusion_matrix\n",
        "cm = confusion_matrix(test_labels, prediction_NN)\n",
        "print(cm)\n",
        "sns.heatmap(cm, annot=True,\n",
        "            fmt=\".1f\",                               \n",
        "            linewidths=0.5, \n",
        "            linecolor='white')\n",
        "         "
      ],
      "metadata": {
        "id": "wVdJWQRBnhBO",
        "colab": {
          "base_uri": "https://localhost:8080/",
          "height": 421
        },
        "outputId": "0ac5c002-99cc-4305-f52e-a5c922046054"
      },
      "execution_count": 50,
      "outputs": [
        {
          "output_type": "stream",
          "name": "stdout",
          "text": [
            "[[  0   0   0   0   0   0   0   0]\n",
            " [  0   0   0   0   0   0   0   0]\n",
            " [  0   0   0   0   0   0   0   0]\n",
            " [  0   0   0   0   0   0   0   0]\n",
            " [163  72  65   0   0   0   0   0]\n",
            " [  8 291   1   0   0   0   0   0]\n",
            " [ 57   7 236   0   0   0   0   0]\n",
            " [ 34  64  54 148   0   0   0   0]]\n"
          ]
        },
        {
          "output_type": "execute_result",
          "data": {
            "text/plain": [
              "<matplotlib.axes._subplots.AxesSubplot at 0x7fc30a3c6a30>"
            ]
          },
          "metadata": {},
          "execution_count": 50
        },
        {
          "output_type": "display_data",
          "data": {
            "text/plain": [
              "<Figure size 432x288 with 2 Axes>"
            ],
            "image/png": "[encoded data removed]"
          },
          "metadata": {
            "needs_background": "light"
          }
        }
      ]
    },
    {
      "cell_type": "code",
      "source": [
        "#Check results on a few select images\n",
        "\n",
        "#n=5 dog park. NN not as good as RF.\n",
        "n=9  #Select the index of image to be loaded for testing\n",
        "img = x_test[n]\n",
        "plt.imshow(img)\n",
        "input_img = np.expand_dims(img, axis=0) #Expand dims so the input is (num images, x, y, c)\n",
        "prediction = np.argmax(cnn_model.predict(input_img))  #argmax to convert categorical back to original\n",
        "prediction = le.inverse_transform([prediction])  #Reverse the label encoder to original name\n",
        "print(\"The prediction for this image is: \", prediction)\n",
        "print(\"The actual label for this image is: \", test_labels[n])"
      ],
      "metadata": {
        "id": "yxdl5I3Yng8s",
        "colab": {
          "base_uri": "https://localhost:8080/",
          "height": 340
        },
        "outputId": "1539a1d9-69c6-41bf-eebe-21c661dcab45"
      },
      "execution_count": 53,
      "outputs": [
        {
          "output_type": "stream",
          "name": "stdout",
          "text": [
            "1/1 [==============================] - 0s 45ms/step\n",
            "The prediction for this image is:  ['/content/drive/Shareddrives/Research Collaboration/Image_Classification_Dataset/Training New/Hilsha_Fish']\n",
            "The actual label for this image is:  /content/drive/Shareddrives/Research Collaboration/Image_Classification_Dataset/Validation New/Hilsha_Fish\n"
          ]
        },
        {
          "output_type": "display_data",
          "data": {
            "text/plain": [
              "<Figure size 432x288 with 1 Axes>"
            ],
            "image/png": "[encoded data removed]"
          },
          "metadata": {
            "needs_background": "light"
          }
        }
      ]
    },
    {
      "cell_type": "code",
      "source": [
        "#Now, let us use features from convolutional network for RF\n",
        "X_for_RF = feature_extractor.predict(x_train) #This is out X input to RF"
      ],
      "metadata": {
        "id": "oa02fEotng24",
        "colab": {
          "base_uri": "https://localhost:8080/"
        },
        "outputId": "8625f1f4-8c62-4914-ee9d-8488ef9a0973"
      },
      "execution_count": 88,
      "outputs": [
        {
          "output_type": "stream",
          "name": "stdout",
          "text": [
            "150/150 [==============================] - 110s 730ms/step\n"
          ]
        }
      ]
    },
    {
      "cell_type": "code",
      "source": [
        "#RANDOM FOREST\n",
        "from sklearn.ensemble import RandomForestClassifier\n",
        "RF_model = RandomForestClassifier(n_estimators = 500, random_state = 80)"
      ],
      "metadata": {
        "id": "y3jZLi0Ungyo"
      },
      "execution_count": 89,
      "outputs": []
    },
    {
      "cell_type": "code",
      "source": [
        "# Train the model on training data\n",
        "RF_model.fit(X_for_RF, y_train) #For sklearn no one hot encoding"
      ],
      "metadata": {
        "id": "2A81ojvGnwFv",
        "colab": {
          "base_uri": "https://localhost:8080/"
        },
        "outputId": "2fc14859-cc09-4f84-e9fb-52acfd299218"
      },
      "execution_count": 90,
      "outputs": [
        {
          "output_type": "execute_result",
          "data": {
            "text/plain": [
              "RandomForestClassifier(n_estimators=500, random_state=80)"
            ]
          },
          "metadata": {},
          "execution_count": 90
        }
      ]
    },
    {
      "cell_type": "code",
      "source": [
        "#Send test data through same feature extractor process\n",
        "X_test_feature = feature_extractor.predict(x_test)"
      ],
      "metadata": {
        "colab": {
          "base_uri": "https://localhost:8080/"
        },
        "id": "ge15TFwtGHUc",
        "outputId": "f5abdb18-37bf-46e1-d0c5-bec5b68bfa1e"
      },
      "execution_count": 91,
      "outputs": [
        {
          "output_type": "stream",
          "name": "stdout",
          "text": [
            "38/38 [==============================] - 28s 726ms/step\n"
          ]
        }
      ]
    },
    {
      "cell_type": "code",
      "source": [
        "X_test_feature.shape"
      ],
      "metadata": {
        "colab": {
          "base_uri": "https://localhost:8080/"
        },
        "id": "XnksUCPaJLg7",
        "outputId": "1e2ca1fd-251e-421a-e33d-cfa6036881c0"
      },
      "execution_count": 92,
      "outputs": [
        {
          "output_type": "execute_result",
          "data": {
            "text/plain": [
              "(1200, 65536)"
            ]
          },
          "metadata": {},
          "execution_count": 92
        }
      ]
    },
    {
      "cell_type": "code",
      "source": [
        "#Now predict using the trained RF model. \n",
        "prediction_RF = RF_model.predict(X_test_feature)"
      ],
      "metadata": {
        "id": "ryQVmPrMGHGK"
      },
      "execution_count": 93,
      "outputs": []
    },
    {
      "cell_type": "code",
      "source": [
        "prediction_RF.shape"
      ],
      "metadata": {
        "colab": {
          "base_uri": "https://localhost:8080/"
        },
        "id": "JMoHjzcSJSob",
        "outputId": "d137b8a9-1f13-41cc-ddd5-6c35e555a98e"
      },
      "execution_count": 94,
      "outputs": [
        {
          "output_type": "execute_result",
          "data": {
            "text/plain": [
              "(1200,)"
            ]
          },
          "metadata": {},
          "execution_count": 94
        }
      ]
    },
    {
      "cell_type": "code",
      "source": [
        "#Inverse le transform to get original label back. \n",
        "prediction_RF = le.inverse_transform(prediction_RF)"
      ],
      "metadata": {
        "id": "z8-VLho-GG00"
      },
      "execution_count": 95,
      "outputs": []
    },
    {
      "cell_type": "code",
      "source": [
        "test_labels.shape"
      ],
      "metadata": {
        "colab": {
          "base_uri": "https://localhost:8080/"
        },
        "id": "Xk_JjiinIhUc",
        "outputId": "8759d6c7-b38a-4490-8321-334413f0717f"
      },
      "execution_count": 96,
      "outputs": [
        {
          "output_type": "execute_result",
          "data": {
            "text/plain": [
              "(1200,)"
            ]
          },
          "metadata": {},
          "execution_count": 96
        }
      ]
    },
    {
      "cell_type": "code",
      "source": [
        "prediction_RF.shape"
      ],
      "metadata": {
        "colab": {
          "base_uri": "https://localhost:8080/"
        },
        "id": "AWCqm_nPIpDM",
        "outputId": "16efca72-bf0b-474c-c7c5-a62dc0075113"
      },
      "execution_count": 97,
      "outputs": [
        {
          "output_type": "execute_result",
          "data": {
            "text/plain": [
              "(1200,)"
            ]
          },
          "metadata": {},
          "execution_count": 97
        }
      ]
    },
    {
      "cell_type": "code",
      "source": [
        "#Print overall accuracy\n",
        "from sklearn import metrics\n",
        "print (\"Accuracy = \", metrics.accuracy_score(test_labels, prediction_RF))"
      ],
      "metadata": {
        "id": "oAkBA5J-nv8O",
        "colab": {
          "base_uri": "https://localhost:8080/"
        },
        "outputId": "d4318297-42af-4cd1-a8ca-8f27589569fd"
      },
      "execution_count": 98,
      "outputs": [
        {
          "output_type": "stream",
          "name": "stdout",
          "text": [
            "Accuracy =  0.0\n"
          ]
        }
      ]
    },
    {
      "cell_type": "code",
      "source": [
        "#Confusion Matrix - verify accuracy of each class\n",
        "cm = confusion_matrix(test_labels, prediction_RF)\n",
        "#print(cm)\n",
        "sns.heatmap(cm, annot=True,\n",
        "            fmt=\".1f\",                               \n",
        "            linewidths=0.5, \n",
        "            linecolor='white'\n",
        "            )"
      ],
      "metadata": {
        "id": "oYRwSIiOnv0P",
        "colab": {
          "base_uri": "https://localhost:8080/",
          "height": 286
        },
        "outputId": "6eb0f1c2-3391-4eb9-8337-c05e16a4bc65"
      },
      "execution_count": 99,
      "outputs": [
        {
          "output_type": "execute_result",
          "data": {
            "text/plain": [
              "<matplotlib.axes._subplots.AxesSubplot at 0x7fc3094355e0>"
            ]
          },
          "metadata": {},
          "execution_count": 99
        },
        {
          "output_type": "display_data",
          "data": {
            "text/plain": [
              "<Figure size 432x288 with 2 Axes>"
            ],
            "image/png": "[encoded data removed]"
          },
          "metadata": {
            "needs_background": "light"
          }
        }
      ]
    },
    {
      "cell_type": "code",
      "source": [
        "#Check results on a few select images\n",
        "#n=5 #dog park. RF works better than CNN\n",
        "n=9 #Select the index of image to be loaded for testing\n",
        "img = x_test[n]\n",
        "plt.imshow(img)\n",
        "input_img = np.expand_dims(img, axis=0) #Expand dims so the input is (num images, x, y, c)\n",
        "input_img_features=feature_extractor.predict(input_img)\n",
        "prediction_RF = RF_model.predict(input_img_features)[0] \n",
        "prediction_RF = le.inverse_transform([prediction_RF])  #Reverse the label encoder to original name\n",
        "print(\"The prediction for this image is: \", prediction_RF)\n",
        "print(\"The actual label for this image is: \", test_labels[n])"
      ],
      "metadata": {
        "id": "OSE3RIU5n7Ug",
        "colab": {
          "base_uri": "https://localhost:8080/",
          "height": 340
        },
        "outputId": "8728a780-775d-4653-8321-d02bfe3f52da"
      },
      "execution_count": 100,
      "outputs": [
        {
          "output_type": "stream",
          "name": "stdout",
          "text": [
            "1/1 [==============================] - 0s 43ms/step\n",
            "The prediction for this image is:  ['/content/drive/Shareddrives/Research Collaboration/Image_Classification_Dataset/Training New/Hilsha_Fish']\n",
            "The actual label for this image is:  /content/drive/Shareddrives/Research Collaboration/Image_Classification_Dataset/Validation New/Hilsha_Fish\n"
          ]
        },
        {
          "output_type": "display_data",
          "data": {
            "text/plain": [
              "<Figure size 432x288 with 1 Axes>"
            ],
            "image/png": "[encoded data removed]"
          },
          "metadata": {
            "needs_background": "light"
          }
        }
      ]
    },
    {
      "cell_type": "code",
      "source": [],
      "metadata": {
        "id": "qAwKGQPpn7QR"
      },
      "execution_count": null,
      "outputs": []
    },
    {
      "cell_type": "code",
      "source": [],
      "metadata": {
        "id": "f5Cj_m6Tn7KI"
      },
      "execution_count": null,
      "outputs": []
    },
    {
      "cell_type": "code",
      "source": [],
      "metadata": {
        "id": "8YQUyp_hn7GP"
      },
      "execution_count": null,
      "outputs": []
    }
  ]
}