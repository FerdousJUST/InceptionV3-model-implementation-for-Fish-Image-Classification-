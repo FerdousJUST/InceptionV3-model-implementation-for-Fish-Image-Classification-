{
  "nbformat": 4,
  "nbformat_minor": 0,
  "metadata": {
    "colab": {
      "provenance": [],
      "mount_file_id": "1sHhCNioEw8cz5gvzTwWuFVyPg-RjtqbX",
      "authorship_tag": "ABX9TyOMq8kDu2KyJq7Ie5q/fLZP",
      "include_colab_link": true
    },
    "kernelspec": {
      "name": "python3",
      "display_name": "Python 3"
    },
    "language_info": {
      "name": "python"
    }
  },
  "cells": [
    {
      "cell_type": "markdown",
      "metadata": {
        "id": "view-in-github",
        "colab_type": "text"
      },
      "source": [
        "<a href=\"https://colab.research.google.com/github/FerdousJUST/InceptionV3-model-implementation-for-Fish-Image-Classification-/blob/main/RESTNET_50_project.ipynb\" target=\"_parent\"><img src=\"https://colab.research.google.com/assets/colab-badge.svg\" alt=\"Open In Colab\"/></a>"
      ]
    },
    {
      "cell_type": "code",
      "execution_count": 1,
      "metadata": {
        "id": "5aHBx1-pHj_P"
      },
      "outputs": [],
      "source": [
        "import matplotlib.pyplot as plt\n",
        "import numpy as np \n",
        "import os\n",
        "import PIL \n",
        "import tensorflow as tf\n",
        "from tensorflow import keras\n",
        "from tensorflow.keras import layers\n",
        "from tensorflow.python.keras.layers import Dense,Flatten\n",
        "from tensorflow.keras.models import Sequential\n",
        "from tensorflow.keras.optimizers import Adam "
      ]
    },
    {
      "cell_type": "code",
      "source": [
        "data_dir = \"/content/drive/Shareddrives/Research Collaboration/Image_Classification_Dataset/Training\""
      ],
      "metadata": {
        "id": "C1qFTsCNcn56"
      },
      "execution_count": 2,
      "outputs": []
    },
    {
      "cell_type": "code",
      "source": [
        "img_height = 128\n",
        "img_width = 128\n",
        "batch_size = 32\n",
        "train_ds = tf.keras.preprocessing.image_dataset_from_directory(\n",
        "    data_dir,\n",
        "    validation_split = 0.2,\n",
        "    subset = \"training\",\n",
        "    seed = 123,\n",
        "    label_mode = 'categorical',\n",
        "    image_size = (128,128),\n",
        "    batch_size = 32\n",
        "\n",
        ")"
      ],
      "metadata": {
        "colab": {
          "base_uri": "https://localhost:8080/"
        },
        "id": "49nqvSkgcnz3",
        "outputId": "0223d35d-5eab-46d4-c819-de6adba94d4e"
      },
      "execution_count": 4,
      "outputs": [
        {
          "output_type": "stream",
          "name": "stdout",
          "text": [
            "Found 4800 files belonging to 4 classes.\n",
            "Using 3840 files for training.\n"
          ]
        }
      ]
    },
    {
      "cell_type": "code",
      "source": [
        "img_height = 128\n",
        "img_width = 128\n",
        "batch_size = 32\n",
        "val_ds = tf.keras.preprocessing.image_dataset_from_directory(\n",
        "    data_dir,\n",
        "    validation_split = 0.2,\n",
        "    subset = \"validation\",\n",
        "    seed = 123,\n",
        "    label_mode = 'categorical',\n",
        "    image_size = (128,128),\n",
        "    batch_size = 32\n",
        "\n",
        ")"
      ],
      "metadata": {
        "colab": {
          "base_uri": "https://localhost:8080/"
        },
        "id": "0JzPIV6acnuy",
        "outputId": "b4e52dfa-c82c-4591-f379-4f28dad19c8b"
      },
      "execution_count": 5,
      "outputs": [
        {
          "output_type": "stream",
          "name": "stdout",
          "text": [
            "Found 4800 files belonging to 4 classes.\n",
            "Using 960 files for validation.\n"
          ]
        }
      ]
    },
    {
      "cell_type": "code",
      "source": [
        "class_names = train_ds.class_names\n",
        "print(class_names)"
      ],
      "metadata": {
        "colab": {
          "base_uri": "https://localhost:8080/"
        },
        "id": "5ODV9wAbeYmL",
        "outputId": "636fd6ad-bedd-471c-efec-8c4e8a5d9778"
      },
      "execution_count": 6,
      "outputs": [
        {
          "output_type": "stream",
          "name": "stdout",
          "text": [
            "['Barbel_Fish', 'Hilsha_Fish', 'Spotted_Snakehead_Fish', 'Tilapia_Fish']\n"
          ]
        }
      ]
    },
    {
      "cell_type": "code",
      "source": [
        "resnet_model = Sequential()\n",
        "\n",
        "pretrained_model = tf.keras.applications.ResNet50(include_top=False,\n",
        "                                                  input_shape = (128,128,3),\n",
        "                                                  pooling = 'avg',classes=4,\n",
        "                                                  weights = 'imagenet')\n",
        "\n",
        "for layer in pretrained_model.layers:\n",
        "  layer.trainable = False\n",
        "\n",
        "\n",
        "resnet_model.add(pretrained_model)\n",
        "resnet_model.add(Flatten())\n",
        "resnet_model.add(Dense(512,activation='relu'))\n",
        "resnet_model.add(Dense(4,activation = 'softmax'))\n"
      ],
      "metadata": {
        "colab": {
          "base_uri": "https://localhost:8080/"
        },
        "id": "pk6yGvuAeiyD",
        "outputId": "e4991589-1856-4ed0-fd68-3c09a557dcfa"
      },
      "execution_count": 7,
      "outputs": [
        {
          "output_type": "stream",
          "name": "stdout",
          "text": [
            "Downloading data from https://storage.googleapis.com/tensorflow/keras-applications/resnet/resnet50_weights_tf_dim_ordering_tf_kernels_notop.h5\n",
            "94765736/94765736 [==============================] - 0s 0us/step\n"
          ]
        }
      ]
    },
    {
      "cell_type": "code",
      "source": [
        "resnet_model.summary()"
      ],
      "metadata": {
        "colab": {
          "base_uri": "https://localhost:8080/"
        },
        "id": "xSZUlZVJeirj",
        "outputId": "97d49b82-0d67-4c63-bfdf-dab5a7b57705"
      },
      "execution_count": 8,
      "outputs": [
        {
          "output_type": "stream",
          "name": "stdout",
          "text": [
            "Model: \"sequential\"\n",
            "_________________________________________________________________\n",
            " Layer (type)                Output Shape              Param #   \n",
            "=================================================================\n",
            " resnet50 (Functional)       (None, 2048)              23587712  \n",
            "                                                                 \n",
            " module_wrapper (ModuleWrapp  (None, 2048)             0         \n",
            " er)                                                             \n",
            "                                                                 \n",
            " module_wrapper_1 (ModuleWra  (None, 512)              1049088   \n",
            " pper)                                                           \n",
            "                                                                 \n",
            " module_wrapper_2 (ModuleWra  (None, 4)                2052      \n",
            " pper)                                                           \n",
            "                                                                 \n",
            "=================================================================\n",
            "Total params: 24,638,852\n",
            "Trainable params: 1,051,140\n",
            "Non-trainable params: 23,587,712\n",
            "_________________________________________________________________\n"
          ]
        }
      ]
    },
    {
      "cell_type": "code",
      "source": [
        "resnet_model.compile(optimizer = Adam(lr=0.001),loss='categorical_crossentropy',metrics = ['accuracy'])"
      ],
      "metadata": {
        "colab": {
          "base_uri": "https://localhost:8080/"
        },
        "id": "xJF4t_kfeimb",
        "outputId": "7342ba33-d93a-45f5-b81c-af4cdedc0f58"
      },
      "execution_count": 9,
      "outputs": [
        {
          "output_type": "stream",
          "name": "stderr",
          "text": [
            "/usr/local/lib/python3.8/dist-packages/keras/optimizers/optimizer_v2/adam.py:110: UserWarning: The `lr` argument is deprecated, use `learning_rate` instead.\n",
            "  super(Adam, self).__init__(name, **kwargs)\n"
          ]
        }
      ]
    },
    {
      "cell_type": "code",
      "source": [
        "epochs = 10\n",
        "history = resnet_model.fit(train_ds,\n",
        "                           validation_data=val_ds,\n",
        "                           epochs = epochs\n",
        "                           )"
      ],
      "metadata": {
        "colab": {
          "base_uri": "https://localhost:8080/"
        },
        "id": "MS915kCHhIOo",
        "outputId": "1bd3a3fe-ffe8-4098-b3d4-65ad486cb23a"
      },
      "execution_count": 10,
      "outputs": [
        {
          "output_type": "stream",
          "name": "stdout",
          "text": [
            "Epoch 1/10\n",
            "120/120 [==============================] - 747s 6s/step - loss: 0.2681 - accuracy: 0.9307 - val_loss: 0.0449 - val_accuracy: 0.9781\n",
            "Epoch 2/10\n",
            "120/120 [==============================] - 280s 2s/step - loss: 0.0267 - accuracy: 0.9914 - val_loss: 0.0446 - val_accuracy: 0.9833\n",
            "Epoch 3/10\n",
            "120/120 [==============================] - 242s 2s/step - loss: 0.0122 - accuracy: 0.9966 - val_loss: 0.0265 - val_accuracy: 0.9875\n",
            "Epoch 4/10\n",
            "120/120 [==============================] - 241s 2s/step - loss: 0.0036 - accuracy: 0.9995 - val_loss: 0.0197 - val_accuracy: 0.9906\n",
            "Epoch 5/10\n",
            "120/120 [==============================] - 241s 2s/step - loss: 0.0026 - accuracy: 0.9995 - val_loss: 0.0095 - val_accuracy: 0.9969\n",
            "Epoch 6/10\n",
            "120/120 [==============================] - 241s 2s/step - loss: 0.0012 - accuracy: 1.0000 - val_loss: 0.0079 - val_accuracy: 0.9990\n",
            "Epoch 7/10\n",
            "120/120 [==============================] - 241s 2s/step - loss: 7.7884e-04 - accuracy: 1.0000 - val_loss: 0.0073 - val_accuracy: 0.9990\n",
            "Epoch 8/10\n",
            "120/120 [==============================] - 242s 2s/step - loss: 5.7761e-04 - accuracy: 1.0000 - val_loss: 0.0070 - val_accuracy: 0.9990\n",
            "Epoch 9/10\n",
            "120/120 [==============================] - 242s 2s/step - loss: 4.9902e-04 - accuracy: 1.0000 - val_loss: 0.0071 - val_accuracy: 0.9990\n",
            "Epoch 10/10\n",
            "120/120 [==============================] - 242s 2s/step - loss: 3.7326e-04 - accuracy: 1.0000 - val_loss: 0.0066 - val_accuracy: 0.9990\n"
          ]
        }
      ]
    },
    {
      "cell_type": "code",
      "source": [
        "fig1 = plt.gcf()\n",
        "plt.plot(history.history['accuracy'])\n",
        "plt.plot(history.history['val_accuracy'])\n",
        "plt.axis(ymin = 0.1,ymax =1.5)\n",
        "plt.grid()\n",
        "plt.title('Model Accuracy')\n",
        "plt.ylabel('Accuracy')\n",
        "plt.xlabel('Epochs')\n",
        "plt.legend(['Train','Validation'])\n",
        "plt.show()         "
      ],
      "metadata": {
        "colab": {
          "base_uri": "https://localhost:8080/",
          "height": 295
        },
        "id": "Jw5KDuFNhIJa",
        "outputId": "107a4622-755b-461f-c746-330013fd7327"
      },
      "execution_count": 18,
      "outputs": [
        {
          "output_type": "display_data",
          "data": {
            "text/plain": [
              "<Figure size 432x288 with 1 Axes>"
            ],
            "image/png": "[encoded data removed]"
          },
          "metadata": {
            "needs_background": "light"
          }
        }
      ]
    },
    {
      "cell_type": "code",
      "source": [
        "fig1 = plt.gcf()\n",
        "plt.plot(history.history['loss'])\n",
        "plt.plot(history.history['val_loss'])\n",
        "plt.grid()\n",
        "plt.title('Model Loss')\n",
        "plt.ylabel('Loss')\n",
        "plt.xlabel('Epochs')\n",
        "plt.legend(['Train','Validation'])\n",
        "plt.show()"
      ],
      "metadata": {
        "colab": {
          "base_uri": "https://localhost:8080/",
          "height": 295
        },
        "id": "QyO-WM4thIDa",
        "outputId": "5fa12cc6-0d64-419e-8934-75b744935531"
      },
      "execution_count": 20,
      "outputs": [
        {
          "output_type": "display_data",
          "data": {
            "text/plain": [
              "<Figure size 432x288 with 1 Axes>"
            ],
            "image/png": "[encoded data removed]"
          },
          "metadata": {
            "needs_background": "light"
          }
        }
      ]
    },
    {
      "cell_type": "code",
      "source": [
        "plt.figure(figsize = (8,6))\n",
        "plt.plot(history.history['accuracy'],'b-o',color = 'blue',label = 'train',linewidth=3.0)\n",
        "plt.plot(history.history['val_accuracy'],'b-o',color = 'orange',label = 'train',linewidth=3.0)\n",
        "plt.grid(True)\n",
        "epochs = range(1,10)\n",
        "#plt.legend(['loss', 'val_loss'], loc='upper right')\n",
        "plt.legend(['Train Accuracy', 'Test Accuracy'], loc='lower right')\n",
        "plt.title(\"Train & Test Accuracy with Epochs\\n\",fontsize = 16)\n",
        "plt.xlabel(\"Training Epochs\",fontsize= 16)\n",
        "plt.ylabel(\"Train & Test Accuracy\",fontsize =16)\n",
        "plt.show()"
      ],
      "metadata": {
        "colab": {
          "base_uri": "https://localhost:8080/",
          "height": 428
        },
        "id": "9_GB0uRAv7d9",
        "outputId": "d9d65af8-6766-4699-c7de-60a0c61936a4"
      },
      "execution_count": 13,
      "outputs": [
        {
          "output_type": "display_data",
          "data": {
            "text/plain": [
              "<Figure size 576x432 with 1 Axes>"
            ],
            "image/png": "[encoded data removed]"
          },
          "metadata": {
            "needs_background": "light"
          }
        }
      ]
    },
    {
      "cell_type": "code",
      "source": [
        "plt.figure(figsize = (8,6))\n",
        "plt.plot(history.history['loss'],'b-o',color = 'blue',label = 'train',linewidth=3.0)\n",
        "plt.plot(history.history['val_loss'],'b-o',color = 'orange',label = 'train',linewidth=3.0)\n",
        "plt.grid(True)\n",
        "epochs = range(1,20)\n",
        "plt.legend(['Train Loss', 'Test Val_Loss'], loc='upper right')\n",
        "plt.title(\"Train & Test Loss with Epochs\\n\",fontsize = 16)\n",
        "plt.xlabel(\"Training Epochs\",fontsize= 16)\n",
        "plt.ylabel(\"Train & Test Loss\",fontsize =16)\n",
        "plt.show()"
      ],
      "metadata": {
        "colab": {
          "base_uri": "https://localhost:8080/",
          "height": 428
        },
        "id": "LoFlFX-bv7NB",
        "outputId": "bfcbdfcc-4f06-4bd5-b8dc-0783b0458c30"
      },
      "execution_count": 14,
      "outputs": [
        {
          "output_type": "display_data",
          "data": {
            "text/plain": [
              "<Figure size 576x432 with 1 Axes>"
            ],
            "image/png": "[encoded data removed]"
          },
          "metadata": {
            "needs_background": "light"
          }
        }
      ]
    },
    {
      "cell_type": "code",
      "source": [
        "acc = resnet_model.evaluate(val_ds,steps = len(val_ds),verbose = 2)\n",
        "print('%.2f'%(acc[1]*100))"
      ],
      "metadata": {
        "colab": {
          "base_uri": "https://localhost:8080/"
        },
        "id": "rKaIoQbZyA87",
        "outputId": "e561d296-115b-4c3b-9f83-b97f838401e4"
      },
      "execution_count": 24,
      "outputs": [
        {
          "output_type": "stream",
          "name": "stdout",
          "text": [
            "30/30 - 49s - loss: 0.0066 - accuracy: 0.9990 - 49s/epoch - 2s/step\n",
            "99.90\n"
          ]
        }
      ]
    },
    {
      "cell_type": "code",
      "source": [
        "from tensorflow.python.ops.gen_math_ops import Round\n",
        "from keras.preprocessing import image\n",
        "import numpy as np\n",
        "from keras.utils import load_img, img_to_array\n",
        "test_image = load_img(\n",
        "'/content/drive/Shareddrives/Research Collaboration/Image_Classification_Dataset/Training/Tilapia_Fish/Tilapia_Fish 004.png', \n",
        "                      target_size = (128,128))\n",
        "test_image = img_to_array(test_image)\n",
        "test_image = np.expand_dims(test_image,axis = 0)\n",
        "rslt = resnet_model.predict(test_image)\n",
        "print (rslt)\n",
        "\n",
        "\n",
        "list_index = [0,1,2,3]\n",
        "\n",
        "x = rslt\n",
        "\n",
        "for i in range(4):\n",
        "  for j in range(4):\n",
        "    if x[0][list_index[i]] > x[0][list_index[j]]:\n",
        "          temp = list_index[i]\n",
        "          list_index[i] = list_index[j]\n",
        "          list_index[j] = temp\n",
        "\n",
        "print(list_index)\n",
        "\n",
        "classification = ['Barbel_Fish','Hilsha_Fish','Spotted_Snakehead_Fish','Tilapia_Fish']\n",
        "     \n",
        "\n",
        "for i in range(4):\n",
        "  print(classification[list_index[i]], ':', round(rslt[0][list_index[i]] * 100,2),'%')"
      ],
      "metadata": {
        "colab": {
          "base_uri": "https://localhost:8080/"
        },
        "id": "Q8F1yi7syAsE",
        "outputId": "00b0eb4b-9ded-49d8-d34e-a949befcf1b1"
      },
      "execution_count": 25,
      "outputs": [
        {
          "output_type": "stream",
          "name": "stdout",
          "text": [
            "1/1 [==============================] - 1s 983ms/step\n",
            "[[2.5327412e-15 2.2800716e-16 8.9036302e-14 1.0000000e+00]]\n",
            "[3, 2, 0, 1]\n",
            "Tilapia_Fish : 100.0 %\n",
            "Spotted_Snakehead_Fish : 0.0 %\n",
            "Barbel_Fish : 0.0 %\n",
            "Hilsha_Fish : 0.0 %\n"
          ]
        }
      ]
    },
    {
      "cell_type": "code",
      "source": [
        "from tensorflow.python.ops.gen_math_ops import Round\n",
        "from keras.preprocessing import image\n",
        "import numpy as np\n",
        "from keras.utils import load_img, img_to_array\n",
        "test_image = load_img(\n",
        "'/content/drive/Shareddrives/Research Collaboration/Image_Classification_Dataset/Training/Spotted_Snakehead_Fish/Spotted_Fish 003.jpg', \n",
        "                      target_size = (128,128))\n",
        "test_image = img_to_array(test_image)\n",
        "test_image = np.expand_dims(test_image,axis = 0)\n",
        "rslt = resnet_model.predict(test_image)\n",
        "print (rslt)\n",
        "\n",
        "\n",
        "list_index = [0,1,2,3]\n",
        "\n",
        "x = rslt\n",
        "\n",
        "for i in range(4):\n",
        "  for j in range(4):\n",
        "    if x[0][list_index[i]] > x[0][list_index[j]]:\n",
        "          temp = list_index[i]\n",
        "          list_index[i] = list_index[j]\n",
        "          list_index[j] = temp\n",
        "\n",
        "print(list_index)\n",
        "\n",
        "classification = ['Barbel_Fish','Hilsha_Fish','Spotted_Snakehead_Fish','Tilapia_Fish']\n",
        "     \n",
        "\n",
        "for i in range(4):\n",
        "  print(classification[list_index[i]], ':', round(rslt[0][list_index[i]] * 100,2),'%')"
      ],
      "metadata": {
        "colab": {
          "base_uri": "https://localhost:8080/"
        },
        "id": "uuEsjNxejoNk",
        "outputId": "408d13e7-ea91-46bb-b2f2-9d3a62a3e05c"
      },
      "execution_count": 26,
      "outputs": [
        {
          "output_type": "stream",
          "name": "stdout",
          "text": [
            "1/1 [==============================] - 0s 139ms/step\n",
            "[[8.850744e-06 2.283888e-18 9.999912e-01 7.484673e-09]]\n",
            "[2, 0, 3, 1]\n",
            "Spotted_Snakehead_Fish : 100.0 %\n",
            "Barbel_Fish : 0.0 %\n",
            "Tilapia_Fish : 0.0 %\n",
            "Hilsha_Fish : 0.0 %\n"
          ]
        }
      ]
    },
    {
      "cell_type": "code",
      "source": [
        "from tensorflow.python.ops.gen_math_ops import Round\n",
        "from keras.preprocessing import image\n",
        "import numpy as np\n",
        "from keras.utils import load_img, img_to_array\n",
        "test_image = load_img(\n",
        "'/content/drive/Shareddrives/Research Collaboration/Image_Classification_Dataset/Training/Hilsha_Fish/Hilsha_Fish 003.jpg', \n",
        "                      target_size = (128,128))\n",
        "test_image = img_to_array(test_image)\n",
        "test_image = np.expand_dims(test_image,axis = 0)\n",
        "rslt = resnet_model.predict(test_image)\n",
        "print (rslt)\n",
        "\n",
        "\n",
        "list_index = [0,1,2,3]\n",
        "\n",
        "x = rslt\n",
        "\n",
        "for i in range(4):\n",
        "  for j in range(4):\n",
        "    if x[0][list_index[i]] > x[0][list_index[j]]:\n",
        "          temp = list_index[i]\n",
        "          list_index[i] = list_index[j]\n",
        "          list_index[j] = temp\n",
        "\n",
        "print(list_index)\n",
        "\n",
        "classification = ['Barbel_Fish','Hilsha_Fish','Spotted_Snakehead_Fish','Tilapia_Fish']\n",
        "     \n",
        "\n",
        "for i in range(4):\n",
        "  print(classification[list_index[i]], ':', round(rslt[0][list_index[i]] * 100,2),'%')"
      ],
      "metadata": {
        "colab": {
          "base_uri": "https://localhost:8080/"
        },
        "id": "3dxuk8Oj0NPq",
        "outputId": "82c98c95-5054-4ef1-de1e-83144a37b911"
      },
      "execution_count": 27,
      "outputs": [
        {
          "output_type": "stream",
          "name": "stdout",
          "text": [
            "1/1 [==============================] - 0s 90ms/step\n",
            "[[2.7693989e-04 9.9966180e-01 1.7098753e-05 4.4154465e-05]]\n",
            "[1, 0, 3, 2]\n",
            "Hilsha_Fish : 99.97 %\n",
            "Barbel_Fish : 0.03 %\n",
            "Tilapia_Fish : 0.0 %\n",
            "Spotted_Snakehead_Fish : 0.0 %\n"
          ]
        }
      ]
    },
    {
      "cell_type": "code",
      "source": [
        "from tensorflow.python.ops.gen_math_ops import Round\n",
        "from keras.preprocessing import image\n",
        "import numpy as np\n",
        "from keras.utils import load_img, img_to_array\n",
        "test_image = load_img(\n",
        "'/content/drive/Shareddrives/Research Collaboration/Image_Classification_Dataset/Training/Barbel_Fish/Barbel_Fish 005.jpg', \n",
        "                      target_size = (128,128))\n",
        "test_image = img_to_array(test_image)\n",
        "test_image = np.expand_dims(test_image,axis = 0)\n",
        "rslt = resnet_model.predict(test_image)\n",
        "print (rslt)\n",
        "\n",
        "\n",
        "list_index = [0,1,2,3]\n",
        "\n",
        "x = rslt\n",
        "\n",
        "for i in range(4):\n",
        "  for j in range(4):\n",
        "    if x[0][list_index[i]] > x[0][list_index[j]]:\n",
        "          temp = list_index[i]\n",
        "          list_index[i] = list_index[j]\n",
        "          list_index[j] = temp\n",
        "\n",
        "print(list_index)\n",
        "\n",
        "classification = ['Barbel_Fish','Hilsha_Fish','Spotted_Snakehead_Fish','Tilapia_Fish']\n",
        "     \n",
        "\n",
        "for i in range(4):\n",
        "  print(classification[list_index[i]], ':', round(rslt[0][list_index[i]] * 100,2),'%')"
      ],
      "metadata": {
        "colab": {
          "base_uri": "https://localhost:8080/"
        },
        "id": "NaKpX8g_0NB7",
        "outputId": "f62c6d00-5106-4d21-cc6d-ebc1ac6d1a37"
      },
      "execution_count": 28,
      "outputs": [
        {
          "output_type": "stream",
          "name": "stdout",
          "text": [
            "1/1 [==============================] - 0s 91ms/step\n",
            "[[9.9559444e-01 8.6970704e-07 3.5861295e-03 8.1861741e-04]]\n",
            "[0, 2, 3, 1]\n",
            "Barbel_Fish : 99.56 %\n",
            "Spotted_Snakehead_Fish : 0.36 %\n",
            "Tilapia_Fish : 0.08 %\n",
            "Hilsha_Fish : 0.0 %\n"
          ]
        }
      ]
    },
    {
      "cell_type": "code",
      "source": [
        "from tensorflow.python.ops.gen_math_ops import Round\n",
        "from keras.preprocessing import image\n",
        "import numpy as np\n",
        "from keras.utils import load_img, img_to_array\n",
        "test_image = load_img(\n",
        "'/content/hilsha1.jpg', \n",
        "                      target_size = (128,128))\n",
        "test_image = img_to_array(test_image)\n",
        "test_image = np.expand_dims(test_image,axis = 0)\n",
        "rslt = resnet_model.predict(test_image)\n",
        "print (rslt)\n",
        "\n",
        "\n",
        "list_index = [0,1,2,3]\n",
        "\n",
        "x = rslt\n",
        "\n",
        "for i in range(4):\n",
        "  for j in range(4):\n",
        "    if x[0][list_index[i]] > x[0][list_index[j]]:\n",
        "          temp = list_index[i]\n",
        "          list_index[i] = list_index[j]\n",
        "          list_index[j] = temp\n",
        "\n",
        "print(list_index)\n",
        "\n",
        "classification = ['Barbel_Fish','Hilsha_Fish','Spotted_Snakehead_Fish','Tilapia_Fish']\n",
        "     \n",
        "\n",
        "for i in range(4):\n",
        "  print(classification[list_index[i]], ':', round(rslt[0][list_index[i]] * 100,2),'%')"
      ],
      "metadata": {
        "colab": {
          "base_uri": "https://localhost:8080/"
        },
        "id": "Bm7w1DH10vzJ",
        "outputId": "951a26f0-d3ff-4e60-b380-e9977cfde3e9"
      },
      "execution_count": 30,
      "outputs": [
        {
          "output_type": "stream",
          "name": "stdout",
          "text": [
            "1/1 [==============================] - 0s 182ms/step\n",
            "[[4.8275339e-10 1.0000000e+00 1.0463915e-18 6.1213284e-11]]\n",
            "[1, 0, 3, 2]\n",
            "Hilsha_Fish : 100.0 %\n",
            "Barbel_Fish : 0.0 %\n",
            "Tilapia_Fish : 0.0 %\n",
            "Spotted_Snakehead_Fish : 0.0 %\n"
          ]
        }
      ]
    },
    {
      "cell_type": "code",
      "source": [
        "y_pred = resnet_model.predict(val_ds)"
      ],
      "metadata": {
        "colab": {
          "base_uri": "https://localhost:8080/"
        },
        "id": "qyFSZh_X2eDM",
        "outputId": "f2ed9eae-24e7-4782-cf20-d1789aa7660c"
      },
      "execution_count": 32,
      "outputs": [
        {
          "output_type": "stream",
          "name": "stdout",
          "text": [
            "30/30 [==============================] - 50s 2s/step\n"
          ]
        }
      ]
    },
    {
      "cell_type": "code",
      "source": [
        "y_pred = np.argmax(y_pred,axis = 1)"
      ],
      "metadata": {
        "id": "Cv6RjZJM2d38"
      },
      "execution_count": 33,
      "outputs": []
    },
    {
      "cell_type": "code",
      "source": [
        "from sklearn.metrics import confusion_matrix, classification_report, accuracy_score, recall_score, precision_score, f1_score\n",
        "\n",
        "print(classification_report(val_ds,y_pred))"
      ],
      "metadata": {
        "colab": {
          "base_uri": "https://localhost:8080/",
          "height": 363
        },
        "id": "7LCf1F2r2dpg",
        "outputId": "c5c79795-e789-458d-aef9-bfe30bebf0cd"
      },
      "execution_count": 34,
      "outputs": [
        {
          "output_type": "error",
          "ename": "ValueError",
          "evalue": "ignored",
          "traceback": [
            "\u001b[0;31m---------------------------------------------------------------------------\u001b[0m",
            "\u001b[0;31mValueError\u001b[0m                                Traceback (most recent call last)",
            "\u001b[0;32m<ipython-input-34-4ce1a9b3b8f3>\u001b[0m in \u001b[0;36m<module>\u001b[0;34m\u001b[0m\n\u001b[1;32m      1\u001b[0m \u001b[0;32mfrom\u001b[0m \u001b[0msklearn\u001b[0m\u001b[0;34m.\u001b[0m\u001b[0mmetrics\u001b[0m \u001b[0;32mimport\u001b[0m \u001b[0mconfusion_matrix\u001b[0m\u001b[0;34m,\u001b[0m \u001b[0mclassification_report\u001b[0m\u001b[0;34m,\u001b[0m \u001b[0maccuracy_score\u001b[0m\u001b[0;34m,\u001b[0m \u001b[0mrecall_score\u001b[0m\u001b[0;34m,\u001b[0m \u001b[0mprecision_score\u001b[0m\u001b[0;34m,\u001b[0m \u001b[0mf1_score\u001b[0m\u001b[0;34m\u001b[0m\u001b[0;34m\u001b[0m\u001b[0m\n\u001b[1;32m      2\u001b[0m \u001b[0;34m\u001b[0m\u001b[0m\n\u001b[0;32m----> 3\u001b[0;31m \u001b[0mprint\u001b[0m\u001b[0;34m(\u001b[0m\u001b[0mclassification_report\u001b[0m\u001b[0;34m(\u001b[0m\u001b[0mval_ds\u001b[0m\u001b[0;34m,\u001b[0m\u001b[0my_pred\u001b[0m\u001b[0;34m)\u001b[0m\u001b[0;34m)\u001b[0m\u001b[0;34m\u001b[0m\u001b[0;34m\u001b[0m\u001b[0m\n\u001b[0m",
            "\u001b[0;32m/usr/local/lib/python3.8/dist-packages/sklearn/metrics/_classification.py\u001b[0m in \u001b[0;36mclassification_report\u001b[0;34m(y_true, y_pred, labels, target_names, sample_weight, digits, output_dict, zero_division)\u001b[0m\n\u001b[1;32m   2108\u001b[0m     \"\"\"\n\u001b[1;32m   2109\u001b[0m \u001b[0;34m\u001b[0m\u001b[0m\n\u001b[0;32m-> 2110\u001b[0;31m     \u001b[0my_type\u001b[0m\u001b[0;34m,\u001b[0m \u001b[0my_true\u001b[0m\u001b[0;34m,\u001b[0m \u001b[0my_pred\u001b[0m \u001b[0;34m=\u001b[0m \u001b[0m_check_targets\u001b[0m\u001b[0;34m(\u001b[0m\u001b[0my_true\u001b[0m\u001b[0;34m,\u001b[0m \u001b[0my_pred\u001b[0m\u001b[0;34m)\u001b[0m\u001b[0;34m\u001b[0m\u001b[0;34m\u001b[0m\u001b[0m\n\u001b[0m\u001b[1;32m   2111\u001b[0m \u001b[0;34m\u001b[0m\u001b[0m\n\u001b[1;32m   2112\u001b[0m     \u001b[0;32mif\u001b[0m \u001b[0mlabels\u001b[0m \u001b[0;32mis\u001b[0m \u001b[0;32mNone\u001b[0m\u001b[0;34m:\u001b[0m\u001b[0;34m\u001b[0m\u001b[0;34m\u001b[0m\u001b[0m\n",
            "\u001b[0;32m/usr/local/lib/python3.8/dist-packages/sklearn/metrics/_classification.py\u001b[0m in \u001b[0;36m_check_targets\u001b[0;34m(y_true, y_pred)\u001b[0m\n\u001b[1;32m     82\u001b[0m     \u001b[0my_pred\u001b[0m \u001b[0;34m:\u001b[0m \u001b[0marray\u001b[0m \u001b[0;32mor\u001b[0m \u001b[0mindicator\u001b[0m \u001b[0mmatrix\u001b[0m\u001b[0;34m\u001b[0m\u001b[0;34m\u001b[0m\u001b[0m\n\u001b[1;32m     83\u001b[0m     \"\"\"\n\u001b[0;32m---> 84\u001b[0;31m     \u001b[0mcheck_consistent_length\u001b[0m\u001b[0;34m(\u001b[0m\u001b[0my_true\u001b[0m\u001b[0;34m,\u001b[0m \u001b[0my_pred\u001b[0m\u001b[0;34m)\u001b[0m\u001b[0;34m\u001b[0m\u001b[0;34m\u001b[0m\u001b[0m\n\u001b[0m\u001b[1;32m     85\u001b[0m     \u001b[0mtype_true\u001b[0m \u001b[0;34m=\u001b[0m \u001b[0mtype_of_target\u001b[0m\u001b[0;34m(\u001b[0m\u001b[0my_true\u001b[0m\u001b[0;34m)\u001b[0m\u001b[0;34m\u001b[0m\u001b[0;34m\u001b[0m\u001b[0m\n\u001b[1;32m     86\u001b[0m     \u001b[0mtype_pred\u001b[0m \u001b[0;34m=\u001b[0m \u001b[0mtype_of_target\u001b[0m\u001b[0;34m(\u001b[0m\u001b[0my_pred\u001b[0m\u001b[0;34m)\u001b[0m\u001b[0;34m\u001b[0m\u001b[0;34m\u001b[0m\u001b[0m\n",
            "\u001b[0;32m/usr/local/lib/python3.8/dist-packages/sklearn/utils/validation.py\u001b[0m in \u001b[0;36mcheck_consistent_length\u001b[0;34m(*arrays)\u001b[0m\n\u001b[1;32m    330\u001b[0m     \u001b[0muniques\u001b[0m \u001b[0;34m=\u001b[0m \u001b[0mnp\u001b[0m\u001b[0;34m.\u001b[0m\u001b[0munique\u001b[0m\u001b[0;34m(\u001b[0m\u001b[0mlengths\u001b[0m\u001b[0;34m)\u001b[0m\u001b[0;34m\u001b[0m\u001b[0;34m\u001b[0m\u001b[0m\n\u001b[1;32m    331\u001b[0m     \u001b[0;32mif\u001b[0m \u001b[0mlen\u001b[0m\u001b[0;34m(\u001b[0m\u001b[0muniques\u001b[0m\u001b[0;34m)\u001b[0m \u001b[0;34m>\u001b[0m \u001b[0;36m1\u001b[0m\u001b[0;34m:\u001b[0m\u001b[0;34m\u001b[0m\u001b[0;34m\u001b[0m\u001b[0m\n\u001b[0;32m--> 332\u001b[0;31m         raise ValueError(\n\u001b[0m\u001b[1;32m    333\u001b[0m             \u001b[0;34m\"Found input variables with inconsistent numbers of samples: %r\"\u001b[0m\u001b[0;34m\u001b[0m\u001b[0;34m\u001b[0m\u001b[0m\n\u001b[1;32m    334\u001b[0m             \u001b[0;34m%\u001b[0m \u001b[0;34m[\u001b[0m\u001b[0mint\u001b[0m\u001b[0;34m(\u001b[0m\u001b[0ml\u001b[0m\u001b[0;34m)\u001b[0m \u001b[0;32mfor\u001b[0m \u001b[0ml\u001b[0m \u001b[0;32min\u001b[0m \u001b[0mlengths\u001b[0m\u001b[0;34m]\u001b[0m\u001b[0;34m\u001b[0m\u001b[0;34m\u001b[0m\u001b[0m\n",
            "\u001b[0;31mValueError\u001b[0m: Found input variables with inconsistent numbers of samples: [30, 960]"
          ]
        }
      ]
    }
  ]
}